{
 "cells": [
  {
   "cell_type": "code",
   "execution_count": 1,
   "metadata": {},
   "outputs": [],
   "source": [
    "import pandas as pd\n",
    "import numpy as np"
   ]
  },
  {
   "cell_type": "code",
   "execution_count": 2,
   "metadata": {},
   "outputs": [],
   "source": [
    "df = pd.read_csv('cleaned job data.csv')"
   ]
  },
  {
   "cell_type": "code",
   "execution_count": 3,
   "metadata": {},
   "outputs": [
    {
     "data": {
      "text/html": [
       "<div>\n",
       "<style scoped>\n",
       "    .dataframe tbody tr th:only-of-type {\n",
       "        vertical-align: middle;\n",
       "    }\n",
       "\n",
       "    .dataframe tbody tr th {\n",
       "        vertical-align: top;\n",
       "    }\n",
       "\n",
       "    .dataframe thead th {\n",
       "        text-align: right;\n",
       "    }\n",
       "</style>\n",
       "<table border=\"1\" class=\"dataframe\">\n",
       "  <thead>\n",
       "    <tr style=\"text-align: right;\">\n",
       "      <th></th>\n",
       "      <th>job_title</th>\n",
       "      <th>company_name</th>\n",
       "      <th>company_location</th>\n",
       "      <th>total_salary</th>\n",
       "      <th>City</th>\n",
       "      <th>State</th>\n",
       "      <th>link</th>\n",
       "    </tr>\n",
       "  </thead>\n",
       "  <tbody>\n",
       "    <tr>\n",
       "      <th>0</th>\n",
       "      <td>Python Developer</td>\n",
       "      <td>Fuevation Technology Solutions Pvt Ltd.</td>\n",
       "      <td>Gurgaon, Haryana</td>\n",
       "      <td>500000.0</td>\n",
       "      <td>Gurgaon</td>\n",
       "      <td>Haryana</td>\n",
       "      <td>https://in.indeed.com/rc/clk?jk=3d13bb2dd59bf2...</td>\n",
       "    </tr>\n",
       "    <tr>\n",
       "      <th>1</th>\n",
       "      <td>Python Developer</td>\n",
       "      <td>Kodehash Technologies Pvt Ltd</td>\n",
       "      <td>Gurgaon, Haryana</td>\n",
       "      <td>1250000.0</td>\n",
       "      <td>Gurgaon</td>\n",
       "      <td>Haryana</td>\n",
       "      <td>https://in.indeed.com/rc/clk?jk=27274b8f0040ab...</td>\n",
       "    </tr>\n",
       "    <tr>\n",
       "      <th>2</th>\n",
       "      <td>Python Developer &amp; Data</td>\n",
       "      <td>iXceed Solutions</td>\n",
       "      <td>Gurgaon, Haryana</td>\n",
       "      <td>2500000.0</td>\n",
       "      <td>Gurgaon</td>\n",
       "      <td>Haryana</td>\n",
       "      <td>https://in.indeed.com/rc/clk?jk=e8527199acd1ac...</td>\n",
       "    </tr>\n",
       "    <tr>\n",
       "      <th>3</th>\n",
       "      <td>Python Developer</td>\n",
       "      <td>Beadcore Infotech Private Limited</td>\n",
       "      <td>New Delhi, Delhi</td>\n",
       "      <td>466712.25</td>\n",
       "      <td>New Delhi</td>\n",
       "      <td>Delhi</td>\n",
       "      <td>https://in.indeed.com/rc/clk?jk=c644553992b3bc...</td>\n",
       "    </tr>\n",
       "    <tr>\n",
       "      <th>4</th>\n",
       "      <td>Sr. Python Developer</td>\n",
       "      <td>iXceed Solutions</td>\n",
       "      <td>Gurgaon, Haryana</td>\n",
       "      <td>2500000.0</td>\n",
       "      <td>Gurgaon</td>\n",
       "      <td>Haryana</td>\n",
       "      <td>https://in.indeed.com/rc/clk?jk=842eac34ce8e17...</td>\n",
       "    </tr>\n",
       "  </tbody>\n",
       "</table>\n",
       "</div>"
      ],
      "text/plain": [
       "                 job_title                             company_name  \\\n",
       "0         Python Developer  Fuevation Technology Solutions Pvt Ltd.   \n",
       "1         Python Developer            Kodehash Technologies Pvt Ltd   \n",
       "2  Python Developer & Data                         iXceed Solutions   \n",
       "3         Python Developer        Beadcore Infotech Private Limited   \n",
       "4     Sr. Python Developer                         iXceed Solutions   \n",
       "\n",
       "   company_location total_salary       City    State  \\\n",
       "0  Gurgaon, Haryana     500000.0    Gurgaon  Haryana   \n",
       "1  Gurgaon, Haryana    1250000.0    Gurgaon  Haryana   \n",
       "2  Gurgaon, Haryana    2500000.0    Gurgaon  Haryana   \n",
       "3  New Delhi, Delhi    466712.25  New Delhi    Delhi   \n",
       "4  Gurgaon, Haryana    2500000.0    Gurgaon  Haryana   \n",
       "\n",
       "                                                link  \n",
       "0  https://in.indeed.com/rc/clk?jk=3d13bb2dd59bf2...  \n",
       "1  https://in.indeed.com/rc/clk?jk=27274b8f0040ab...  \n",
       "2  https://in.indeed.com/rc/clk?jk=e8527199acd1ac...  \n",
       "3  https://in.indeed.com/rc/clk?jk=c644553992b3bc...  \n",
       "4  https://in.indeed.com/rc/clk?jk=842eac34ce8e17...  "
      ]
     },
     "execution_count": 3,
     "metadata": {},
     "output_type": "execute_result"
    }
   ],
   "source": [
    "df.head()"
   ]
  },
  {
   "cell_type": "code",
   "execution_count": 4,
   "metadata": {},
   "outputs": [],
   "source": [
    "filtered_data = df[(df['job_title'].str.contains('Python Developer', case=False)) & (df['State'] == 'Delhi')]\n",
    "filtered_data = filtered_data[filtered_data['total_salary'] != 'Not Applicable']"
   ]
  },
  {
   "cell_type": "code",
   "execution_count": 5,
   "metadata": {},
   "outputs": [],
   "source": [
    "filtered_data['total_salary'] = pd.to_numeric(filtered_data['total_salary'], errors='coerce')\n",
    "filtered_data = filtered_data.dropna(subset=['total_salary'])"
   ]
  },
  {
   "cell_type": "code",
   "execution_count": 6,
   "metadata": {},
   "outputs": [],
   "source": [
    "average_salary = np.mean(filtered_data['total_salary'])"
   ]
  },
  {
   "cell_type": "code",
   "execution_count": 7,
   "metadata": {},
   "outputs": [
    {
     "name": "stdout",
     "output_type": "stream",
     "text": [
      "The average salary for Python developers in Delhi is: 901118.7083333334 Per Annum.\n"
     ]
    }
   ],
   "source": [
    "print(\"The average salary for Python developers in Delhi is:\", average_salary,\"Per Annum.\")"
   ]
  }
 ],
 "metadata": {
  "kernelspec": {
   "display_name": "Python 3",
   "language": "python",
   "name": "python3"
  },
  "language_info": {
   "codemirror_mode": {
    "name": "ipython",
    "version": 3
   },
   "file_extension": ".py",
   "mimetype": "text/x-python",
   "name": "python",
   "nbconvert_exporter": "python",
   "pygments_lexer": "ipython3",
   "version": "3.12.1"
  }
 },
 "nbformat": 4,
 "nbformat_minor": 2
}
